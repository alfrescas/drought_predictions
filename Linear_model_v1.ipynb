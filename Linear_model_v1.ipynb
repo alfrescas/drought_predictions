{
 "cells": [
  {
   "cell_type": "code",
   "execution_count": 95,
   "id": "7a8bb480",
   "metadata": {},
   "outputs": [],
   "source": [
    "# import dependencies\n",
    "from sklearn.ensemble import RandomForestClassifier\n",
    "from sklearn.ensemble import RandomForestRegressor\n",
    "from sklearn.model_selection import train_test_split\n",
    "import pandas as pd\n",
    "from pathlib import Path\n",
    "import matplotlib.pyplot as plt\n",
    "from sklearn.linear_model import LinearRegression\n",
    "import numpy as np\n",
    "import warnings \n",
    "warnings.filterwarnings('ignore')\n",
    "import seaborn as sns\n",
    "from sklearn.metrics import mean_absolute_error\n",
    "import matplotlib.pyplot as plt"
   ]
  },
  {
   "cell_type": "markdown",
   "id": "2f68131b",
   "metadata": {},
   "source": [
    "# Data Cleaning"
   ]
  },
  {
   "cell_type": "code",
   "execution_count": 48,
   "id": "25a5ca84",
   "metadata": {},
   "outputs": [],
   "source": [
    "# load in our data file\n",
    "temp_df= pd.read_excel(\"Water_data_years5.xlsx\", header=0)"
   ]
  },
  {
   "cell_type": "code",
   "execution_count": 49,
   "id": "ee83ab8d",
   "metadata": {},
   "outputs": [
    {
     "data": {
      "text/html": [
       "<div>\n",
       "<style scoped>\n",
       "    .dataframe tbody tr th:only-of-type {\n",
       "        vertical-align: middle;\n",
       "    }\n",
       "\n",
       "    .dataframe tbody tr th {\n",
       "        vertical-align: top;\n",
       "    }\n",
       "\n",
       "    .dataframe thead th {\n",
       "        text-align: right;\n",
       "    }\n",
       "</style>\n",
       "<table border=\"1\" class=\"dataframe\">\n",
       "  <thead>\n",
       "    <tr style=\"text-align: right;\">\n",
       "      <th></th>\n",
       "      <th>state</th>\n",
       "      <th>statecode</th>\n",
       "      <th>county</th>\n",
       "      <th>countycode</th>\n",
       "      <th>fips</th>\n",
       "      <th>year</th>\n",
       "      <th>tp-totpop</th>\n",
       "      <th>ps-gwpop</th>\n",
       "      <th>ps-swpop</th>\n",
       "      <th>ps-topop</th>\n",
       "      <th>...</th>\n",
       "      <th>to-swsal</th>\n",
       "      <th>to-swtot</th>\n",
       "      <th>to-frtot</th>\n",
       "      <th>to-satot</th>\n",
       "      <th>to-total</th>\n",
       "      <th>to-cufr</th>\n",
       "      <th>to-cusal</th>\n",
       "      <th>to-cuse</th>\n",
       "      <th>to-convy</th>\n",
       "      <th>ls-total</th>\n",
       "    </tr>\n",
       "  </thead>\n",
       "  <tbody>\n",
       "    <tr>\n",
       "      <th>0</th>\n",
       "      <td>AZ</td>\n",
       "      <td>4</td>\n",
       "      <td>Apache County</td>\n",
       "      <td>1</td>\n",
       "      <td>4001.000000</td>\n",
       "      <td>2015</td>\n",
       "      <td>71.474</td>\n",
       "      <td>48.854</td>\n",
       "      <td>0.000</td>\n",
       "      <td>48.854000</td>\n",
       "      <td>...</td>\n",
       "      <td>49.703845</td>\n",
       "      <td>259.12334</td>\n",
       "      <td>310.641239</td>\n",
       "      <td>51.457206</td>\n",
       "      <td>362.098445</td>\n",
       "      <td>161.86813</td>\n",
       "      <td>1.308718</td>\n",
       "      <td>163.176849</td>\n",
       "      <td>36.064223</td>\n",
       "      <td>1.894958</td>\n",
       "    </tr>\n",
       "    <tr>\n",
       "      <th>1</th>\n",
       "      <td>AZ</td>\n",
       "      <td>4</td>\n",
       "      <td>Cochise County</td>\n",
       "      <td>3</td>\n",
       "      <td>4003.000000</td>\n",
       "      <td>2015</td>\n",
       "      <td>126.427</td>\n",
       "      <td>102.627</td>\n",
       "      <td>0.000</td>\n",
       "      <td>102.627000</td>\n",
       "      <td>...</td>\n",
       "      <td>49.703845</td>\n",
       "      <td>259.12334</td>\n",
       "      <td>310.641239</td>\n",
       "      <td>51.457206</td>\n",
       "      <td>362.098445</td>\n",
       "      <td>161.86813</td>\n",
       "      <td>1.308718</td>\n",
       "      <td>163.176849</td>\n",
       "      <td>36.064223</td>\n",
       "      <td>1.894958</td>\n",
       "    </tr>\n",
       "    <tr>\n",
       "      <th>2</th>\n",
       "      <td>AZ</td>\n",
       "      <td>4</td>\n",
       "      <td>Coconino County</td>\n",
       "      <td>5</td>\n",
       "      <td>4005.000000</td>\n",
       "      <td>2015</td>\n",
       "      <td>139.097</td>\n",
       "      <td>103.701</td>\n",
       "      <td>23.336</td>\n",
       "      <td>127.037000</td>\n",
       "      <td>...</td>\n",
       "      <td>49.703845</td>\n",
       "      <td>259.12334</td>\n",
       "      <td>310.641239</td>\n",
       "      <td>51.457206</td>\n",
       "      <td>362.098445</td>\n",
       "      <td>161.86813</td>\n",
       "      <td>1.308718</td>\n",
       "      <td>163.176849</td>\n",
       "      <td>36.064223</td>\n",
       "      <td>1.894958</td>\n",
       "    </tr>\n",
       "    <tr>\n",
       "      <th>3</th>\n",
       "      <td>AZ</td>\n",
       "      <td>4</td>\n",
       "      <td>Gila County</td>\n",
       "      <td>7</td>\n",
       "      <td>4007.000000</td>\n",
       "      <td>2015</td>\n",
       "      <td>53.159</td>\n",
       "      <td>44.404</td>\n",
       "      <td>0.055</td>\n",
       "      <td>44.459000</td>\n",
       "      <td>...</td>\n",
       "      <td>49.703845</td>\n",
       "      <td>259.12334</td>\n",
       "      <td>310.641239</td>\n",
       "      <td>51.457206</td>\n",
       "      <td>362.098445</td>\n",
       "      <td>161.86813</td>\n",
       "      <td>1.308718</td>\n",
       "      <td>163.176849</td>\n",
       "      <td>36.064223</td>\n",
       "      <td>1.894958</td>\n",
       "    </tr>\n",
       "    <tr>\n",
       "      <th>4</th>\n",
       "      <td>AZ</td>\n",
       "      <td>4</td>\n",
       "      <td>Graham County</td>\n",
       "      <td>9</td>\n",
       "      <td>4009.000000</td>\n",
       "      <td>2015</td>\n",
       "      <td>37.666</td>\n",
       "      <td>30.656</td>\n",
       "      <td>0.000</td>\n",
       "      <td>30.656000</td>\n",
       "      <td>...</td>\n",
       "      <td>49.703845</td>\n",
       "      <td>259.12334</td>\n",
       "      <td>310.641239</td>\n",
       "      <td>51.457206</td>\n",
       "      <td>362.098445</td>\n",
       "      <td>161.86813</td>\n",
       "      <td>1.308718</td>\n",
       "      <td>163.176849</td>\n",
       "      <td>36.064223</td>\n",
       "      <td>1.894958</td>\n",
       "    </tr>\n",
       "    <tr>\n",
       "      <th>...</th>\n",
       "      <td>...</td>\n",
       "      <td>...</td>\n",
       "      <td>...</td>\n",
       "      <td>...</td>\n",
       "      <td>...</td>\n",
       "      <td>...</td>\n",
       "      <td>...</td>\n",
       "      <td>...</td>\n",
       "      <td>...</td>\n",
       "      <td>...</td>\n",
       "      <td>...</td>\n",
       "      <td>...</td>\n",
       "      <td>...</td>\n",
       "      <td>...</td>\n",
       "      <td>...</td>\n",
       "      <td>...</td>\n",
       "      <td>...</td>\n",
       "      <td>...</td>\n",
       "      <td>...</td>\n",
       "      <td>...</td>\n",
       "      <td>...</td>\n",
       "    </tr>\n",
       "    <tr>\n",
       "      <th>1664</th>\n",
       "      <td>WY</td>\n",
       "      <td>56</td>\n",
       "      <td>Weston County</td>\n",
       "      <td>45</td>\n",
       "      <td>56045.000000</td>\n",
       "      <td>2005</td>\n",
       "      <td>6.671</td>\n",
       "      <td>4.555</td>\n",
       "      <td>0.000</td>\n",
       "      <td>4.555000</td>\n",
       "      <td>...</td>\n",
       "      <td>49.703845</td>\n",
       "      <td>259.12334</td>\n",
       "      <td>310.641239</td>\n",
       "      <td>51.457206</td>\n",
       "      <td>362.098445</td>\n",
       "      <td>161.86813</td>\n",
       "      <td>1.308718</td>\n",
       "      <td>163.176849</td>\n",
       "      <td>36.064223</td>\n",
       "      <td>1.894958</td>\n",
       "    </tr>\n",
       "    <tr>\n",
       "      <th>1665</th>\n",
       "      <td>WY</td>\n",
       "      <td>56</td>\n",
       "      <td>Weston County</td>\n",
       "      <td>45</td>\n",
       "      <td>56045.000000</td>\n",
       "      <td>2000</td>\n",
       "      <td>6.640</td>\n",
       "      <td>NaN</td>\n",
       "      <td>NaN</td>\n",
       "      <td>5.320000</td>\n",
       "      <td>...</td>\n",
       "      <td>49.703845</td>\n",
       "      <td>259.12334</td>\n",
       "      <td>310.641239</td>\n",
       "      <td>51.457206</td>\n",
       "      <td>362.098445</td>\n",
       "      <td>161.86813</td>\n",
       "      <td>1.308718</td>\n",
       "      <td>163.176849</td>\n",
       "      <td>36.064223</td>\n",
       "      <td>1.894958</td>\n",
       "    </tr>\n",
       "    <tr>\n",
       "      <th>1666</th>\n",
       "      <td>WY</td>\n",
       "      <td>56</td>\n",
       "      <td>Weston County</td>\n",
       "      <td>45</td>\n",
       "      <td>22352.630366</td>\n",
       "      <td>1995</td>\n",
       "      <td>6.510</td>\n",
       "      <td>4.840</td>\n",
       "      <td>0.000</td>\n",
       "      <td>4.840000</td>\n",
       "      <td>...</td>\n",
       "      <td>49.703845</td>\n",
       "      <td>259.12334</td>\n",
       "      <td>310.641239</td>\n",
       "      <td>51.457206</td>\n",
       "      <td>362.098445</td>\n",
       "      <td>161.86813</td>\n",
       "      <td>1.308718</td>\n",
       "      <td>163.176849</td>\n",
       "      <td>36.064223</td>\n",
       "      <td>1.894958</td>\n",
       "    </tr>\n",
       "    <tr>\n",
       "      <th>1667</th>\n",
       "      <td>WY</td>\n",
       "      <td>56</td>\n",
       "      <td>Weston County</td>\n",
       "      <td>45</td>\n",
       "      <td>22352.630366</td>\n",
       "      <td>1990</td>\n",
       "      <td>0.470</td>\n",
       "      <td>3.980</td>\n",
       "      <td>NaN</td>\n",
       "      <td>199.816678</td>\n",
       "      <td>...</td>\n",
       "      <td>0.000000</td>\n",
       "      <td>7.06000</td>\n",
       "      <td>11.940000</td>\n",
       "      <td>0.260000</td>\n",
       "      <td>12.200000</td>\n",
       "      <td>3.74000</td>\n",
       "      <td>0.000000</td>\n",
       "      <td>3.740000</td>\n",
       "      <td>2.230000</td>\n",
       "      <td>1.894958</td>\n",
       "    </tr>\n",
       "    <tr>\n",
       "      <th>1668</th>\n",
       "      <td>WY</td>\n",
       "      <td>56</td>\n",
       "      <td>Weston County</td>\n",
       "      <td>45</td>\n",
       "      <td>22352.630366</td>\n",
       "      <td>1985</td>\n",
       "      <td>7.900</td>\n",
       "      <td>4.790</td>\n",
       "      <td>0.000</td>\n",
       "      <td>4.790000</td>\n",
       "      <td>...</td>\n",
       "      <td>0.000000</td>\n",
       "      <td>24.29000</td>\n",
       "      <td>32.350000</td>\n",
       "      <td>0.860000</td>\n",
       "      <td>33.210000</td>\n",
       "      <td>18.94000</td>\n",
       "      <td>0.000000</td>\n",
       "      <td>18.940000</td>\n",
       "      <td>3.480000</td>\n",
       "      <td>0.540000</td>\n",
       "    </tr>\n",
       "  </tbody>\n",
       "</table>\n",
       "<p>1669 rows × 409 columns</p>\n",
       "</div>"
      ],
      "text/plain": [
       "     state  statecode           county  countycode          fips  year  \\\n",
       "0       AZ          4    Apache County           1   4001.000000  2015   \n",
       "1       AZ          4   Cochise County           3   4003.000000  2015   \n",
       "2       AZ          4  Coconino County           5   4005.000000  2015   \n",
       "3       AZ          4      Gila County           7   4007.000000  2015   \n",
       "4       AZ          4    Graham County           9   4009.000000  2015   \n",
       "...    ...        ...              ...         ...           ...   ...   \n",
       "1664    WY         56    Weston County          45  56045.000000  2005   \n",
       "1665    WY         56    Weston County          45  56045.000000  2000   \n",
       "1666    WY         56    Weston County          45  22352.630366  1995   \n",
       "1667    WY         56    Weston County          45  22352.630366  1990   \n",
       "1668    WY         56    Weston County          45  22352.630366  1985   \n",
       "\n",
       "      tp-totpop  ps-gwpop  ps-swpop    ps-topop  ...   to-swsal   to-swtot  \\\n",
       "0        71.474    48.854     0.000   48.854000  ...  49.703845  259.12334   \n",
       "1       126.427   102.627     0.000  102.627000  ...  49.703845  259.12334   \n",
       "2       139.097   103.701    23.336  127.037000  ...  49.703845  259.12334   \n",
       "3        53.159    44.404     0.055   44.459000  ...  49.703845  259.12334   \n",
       "4        37.666    30.656     0.000   30.656000  ...  49.703845  259.12334   \n",
       "...         ...       ...       ...         ...  ...        ...        ...   \n",
       "1664      6.671     4.555     0.000    4.555000  ...  49.703845  259.12334   \n",
       "1665      6.640       NaN       NaN    5.320000  ...  49.703845  259.12334   \n",
       "1666      6.510     4.840     0.000    4.840000  ...  49.703845  259.12334   \n",
       "1667      0.470     3.980       NaN  199.816678  ...   0.000000    7.06000   \n",
       "1668      7.900     4.790     0.000    4.790000  ...   0.000000   24.29000   \n",
       "\n",
       "        to-frtot   to-satot    to-total    to-cufr  to-cusal     to-cuse  \\\n",
       "0     310.641239  51.457206  362.098445  161.86813  1.308718  163.176849   \n",
       "1     310.641239  51.457206  362.098445  161.86813  1.308718  163.176849   \n",
       "2     310.641239  51.457206  362.098445  161.86813  1.308718  163.176849   \n",
       "3     310.641239  51.457206  362.098445  161.86813  1.308718  163.176849   \n",
       "4     310.641239  51.457206  362.098445  161.86813  1.308718  163.176849   \n",
       "...          ...        ...         ...        ...       ...         ...   \n",
       "1664  310.641239  51.457206  362.098445  161.86813  1.308718  163.176849   \n",
       "1665  310.641239  51.457206  362.098445  161.86813  1.308718  163.176849   \n",
       "1666  310.641239  51.457206  362.098445  161.86813  1.308718  163.176849   \n",
       "1667   11.940000   0.260000   12.200000    3.74000  0.000000    3.740000   \n",
       "1668   32.350000   0.860000   33.210000   18.94000  0.000000   18.940000   \n",
       "\n",
       "       to-convy  ls-total  \n",
       "0     36.064223  1.894958  \n",
       "1     36.064223  1.894958  \n",
       "2     36.064223  1.894958  \n",
       "3     36.064223  1.894958  \n",
       "4     36.064223  1.894958  \n",
       "...         ...       ...  \n",
       "1664  36.064223  1.894958  \n",
       "1665  36.064223  1.894958  \n",
       "1666  36.064223  1.894958  \n",
       "1667   2.230000  1.894958  \n",
       "1668   3.480000  0.540000  \n",
       "\n",
       "[1669 rows x 409 columns]"
      ]
     },
     "execution_count": 49,
     "metadata": {},
     "output_type": "execute_result"
    }
   ],
   "source": [
    "temp_df"
   ]
  },
  {
   "cell_type": "code",
   "execution_count": 50,
   "id": "5904e20f",
   "metadata": {},
   "outputs": [],
   "source": [
    "# filling in null values\n",
    "temp_df = temp_df.fillna(value=0)"
   ]
  },
  {
   "cell_type": "code",
   "execution_count": 51,
   "id": "8c1554f8",
   "metadata": {},
   "outputs": [],
   "source": [
    "# checking correlation of columns to tp-totpop - total population of the county in thousands\n",
    "m = temp_df.corr()[\"tp-totpop\"]"
   ]
  },
  {
   "cell_type": "code",
   "execution_count": 52,
   "id": "86ba4f77",
   "metadata": {},
   "outputs": [
    {
     "data": {
      "text/plain": [
       "statecode    -0.161539\n",
       "countycode    0.008738\n",
       "fips         -0.153363\n",
       "year          0.081215\n",
       "tp-totpop     1.000000\n",
       "                ...   \n",
       "to-cufr       0.047482\n",
       "to-cusal      0.038683\n",
       "to-cuse       0.048154\n",
       "to-convy      0.001537\n",
       "ls-total      0.022282\n",
       "Name: tp-totpop, Length: 406, dtype: float64"
      ]
     },
     "execution_count": 52,
     "metadata": {},
     "output_type": "execute_result"
    }
   ],
   "source": [
    "m"
   ]
  },
  {
   "cell_type": "code",
   "execution_count": 53,
   "id": "fc0c8f37",
   "metadata": {},
   "outputs": [
    {
     "data": {
      "text/plain": [
       "<seaborn.axisgrid.FacetGrid at 0x1c0ef5ba580>"
      ]
     },
     "execution_count": 53,
     "metadata": {},
     "output_type": "execute_result"
    },
    {
     "data": {
      "image/png": "[encoded data removed]",
      "text/plain": [
       "<Figure size 360x360 with 1 Axes>"
      ]
     },
     "metadata": {
      "needs_background": "light"
     },
     "output_type": "display_data"
    }
   ],
   "source": [
    "# visualizing how ps-wtotl(Public Supply - Total withdrawals in million gallons/day)\n",
    "sns.lmplot(x=\"ps-wtotl\", y=\"tp-totpop\", data= temp_df, fit_reg= True, ci= None )"
   ]
  },
  {
   "cell_type": "code",
   "execution_count": 79,
   "id": "5bb9a3cb",
   "metadata": {},
   "outputs": [],
   "source": [
    "predict_col = \"to-wtotl\"\n",
    "drop_col = [\"state\",\"statecode\",\"county\",\"countycode\", \"filename\",\"ps-gwpop\",\"ps-swpop\",\"ps-topop\"]\n",
    "drop_col.append(predict_col)\n",
    "\n",
    "X=temp_df.drop(columns=drop_col)\n",
    "y=temp_df[predict_col]\n",
    "\n",
    "X_train, X_test, y_train, y_test = train_test_split(X, y, test_size=0.33, random_state=42)"
   ]
  },
  {
   "cell_type": "code",
   "execution_count": null,
   "id": "aa3c9e94",
   "metadata": {},
   "outputs": [],
   "source": [
    "# split train to take in the data for years before 2010 and test data to years after#\n",
    "#train = temp_df[temp_df[\"year\"] < 2010].copy()\n",
    "#test = temp_df[temp_df[\"year\"] >= 2010].copy()"
   ]
  },
  {
   "cell_type": "code",
   "execution_count": 80,
   "id": "36b5afcc",
   "metadata": {},
   "outputs": [],
   "source": [
    "# initialize model\n",
    "model = LinearRegression()"
   ]
  },
  {
   "cell_type": "code",
   "execution_count": null,
   "id": "d6a530de",
   "metadata": {},
   "outputs": [],
   "source": [
    "# set up X and y for ML\n",
    "#predictors = [\"ps-wtotl\" ]\n",
    "#target = ['tp-totpop']"
   ]
  },
  {
   "cell_type": "code",
   "execution_count": 81,
   "id": "5d533cf7",
   "metadata": {},
   "outputs": [
    {
     "data": {
      "text/plain": [
       "LinearRegression()"
      ]
     },
     "execution_count": 81,
     "metadata": {},
     "output_type": "execute_result"
    }
   ],
   "source": [
    "model.fit(X_train, y_train)"
   ]
  },
  {
   "cell_type": "code",
   "execution_count": 82,
   "id": "3b84b046",
   "metadata": {},
   "outputs": [],
   "source": [
    "# predict using test dataset\n",
    "predictions = model.predict(X_test)"
   ]
  },
  {
   "cell_type": "code",
   "execution_count": 83,
   "id": "666a43df",
   "metadata": {},
   "outputs": [
    {
     "data": {
      "text/plain": [
       "1.0"
      ]
     },
     "execution_count": 83,
     "metadata": {},
     "output_type": "execute_result"
    }
   ],
   "source": [
    "model.score(X_test, y_test)"
   ]
  },
  {
   "cell_type": "code",
   "execution_count": 67,
   "id": "f2cac75c",
   "metadata": {},
   "outputs": [],
   "source": [
    "# adding predictions as a column to the test df\n",
    "#temp_df[\"predictions\"]= predictions\n",
    "\n",
    "# Changing negative prediction values to 0\n",
    "#temp_df.loc[temp_df[\"predictions\"] <0,\"predictions\"] =0\n",
    "\n",
    "#temp_df"
   ]
  },
  {
   "cell_type": "code",
   "execution_count": 84,
   "id": "f9b64721",
   "metadata": {},
   "outputs": [],
   "source": [
    "# Fitting Random Forest Regression to the dataet\n",
    "# import the regressor\n",
    "from sklearn.ensemble import RandomForestRegressor\n",
    "\n",
    "# create regressor object\n",
    "regressor = RandomForestRegressor(n_estimators= 100, random_state = 0)\n",
    "\n"
   ]
  },
  {
   "cell_type": "code",
   "execution_count": 85,
   "id": "eef25008",
   "metadata": {},
   "outputs": [
    {
     "data": {
      "text/plain": [
       "RandomForestRegressor(random_state=0)"
      ]
     },
     "execution_count": 85,
     "metadata": {},
     "output_type": "execute_result"
    }
   ],
   "source": [
    "# fit the regressor with x and y data\n",
    "regressor.fit(X_train, y_train)"
   ]
  },
  {
   "cell_type": "code",
   "execution_count": 86,
   "id": "8448d0a8",
   "metadata": {},
   "outputs": [
    {
     "data": {
      "text/plain": [
       "0.9691657678491484"
      ]
     },
     "execution_count": 86,
     "metadata": {},
     "output_type": "execute_result"
    }
   ],
   "source": [
    "regressor.score(X_test, y_test)"
   ]
  }
 ],
 "metadata": {
  "kernelspec": {
   "display_name": "Python 3 (ipykernel)",
   "language": "python",
   "name": "python3"
  },
  "language_info": {
   "codemirror_mode": {
    "name": "ipython",
    "version": 3
   },
   "file_extension": ".py",
   "mimetype": "text/x-python",
   "name": "python",
   "nbconvert_exporter": "python",
   "pygments_lexer": "ipython3",
   "version": "3.9.12"
  },
  "vscode": {
   "interpreter": {
    "hash": "49dea948859241eeb047509d5d44a7a6d04276fe8a4ed0552bf315ac89af2c63"
   }
  }
 },
 "nbformat": 4,
 "nbformat_minor": 5
}
